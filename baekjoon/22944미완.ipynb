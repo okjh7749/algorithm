{
 "cells": [
  {
   "cell_type": "code",
   "execution_count": null,
   "id": "2ccf841f",
   "metadata": {},
   "outputs": [],
   "source": [
    "가로, 세로 길이가 N인 정사각형 격자가 있다. 해당 격자에는 두 곳을 제외한 모든 곳에 체력을 1씩 감소시키는 죽음의 비가 내리고 있다. 죽음의 비가 안내리는 곳은 현재 있는 위치와 안전지대라는 곳이다. 현재 있는 위치에도 곧 비가 내릴 예정이라 빨리 이 죽음의 비를 뚫고 안전지대로 이동해야한다.\n",
    "\n",
    "다행히도 격자에는 죽음의 비를 잠시 막아주는 우산이 K개 존재한다. 우산에는 내구도 D라는 개념이 존재한다. 우산에 비를 맞으면 내구도가 1씩 감소하고, 내구도가 0이 되는 순간 우산은 사라진다. 문제에서 주어지는 우산의 내구도는 모두 D로 동일하다.\n",
    "\n",
    "격자에서 이동을 할 때 다음과 같이 순서로 진행된다.\n",
    "\n",
    "상하좌우로 이동한다. 만약 이동할 곳이 격자 밖이라면 이동할 수 없다. \n",
    "이동한 곳이 안전지대라면 반복을 종료한다.\n",
    "이동한 곳에 우산이 있다면 우산을 든다. 만약, 이동할 때부터 우산을 가지고 있다면 가지고 있는 우산을 버리고 새로운 우산으로 바꾼다.\n",
    "버린 우산은 더 이상 사용할 수 없다.\n",
    "죽음의 비를 맞았을 때, 우산을 가지고 있다면 우산의 내구도가 1이 감소하고 만약 우산을 가지고 있지 않는다면 체력이 1 감소한다.\n",
    "만약 우산의 내구도가 0이 되면 들고 있는 우산이 사라진다.\n",
    "만약 체력이 0이 되면 죽는다...\n",
    "아직 체력이 남았다면 안전지대까지 위 과정을 반복한다.\n",
    "현재 있는 위치에서 안전지대로 얼마나 빠르게 이동할 수 있는지 구해주자.\n",
    "\n",
    "입력\n",
    "첫 번째 줄에 정사각형 격자의 한변의 길이인 N와 현재 체력 H, 우산의 내구도 D가 공백으로 구분되어 주어진다.\n",
    "\n",
    "다음 N개의 줄에는 정사각형 격자의 정보가 N개의 문자로 붙어서 주어진다. 이때 주어지는 문자는 우산은 \"U\", 현재 있는 위치 \"S\", 안전지대 \"E\", 빈 칸 \".\"만 존재한다. 현재 있는 위치 \"S\"와 안전지대 \"E\"는 반드시 1개 존재한다."
   ]
  },
  {
   "cell_type": "code",
   "execution_count": 11,
   "id": "e6d1eb87",
   "metadata": {},
   "outputs": [
    {
     "name": "stdout",
     "output_type": "stream",
     "text": [
      "s\n"
     ]
    },
    {
     "ename": "ValueError",
     "evalue": "invalid literal for int() with base 10: 's'",
     "output_type": "error",
     "traceback": [
      "\u001b[1;31m---------------------------------------------------------------------------\u001b[0m",
      "\u001b[1;31mValueError\u001b[0m                                Traceback (most recent call last)",
      "\u001b[1;32m<ipython-input-11-256e886a4d4f>\u001b[0m in \u001b[0;36m<module>\u001b[1;34m\u001b[0m\n\u001b[0;32m      3\u001b[0m \u001b[0mdy\u001b[0m \u001b[1;33m=\u001b[0m \u001b[1;33m[\u001b[0m\u001b[1;36m0\u001b[0m\u001b[1;33m,\u001b[0m\u001b[1;36m0\u001b[0m\u001b[1;33m,\u001b[0m\u001b[1;33m-\u001b[0m\u001b[1;36m1\u001b[0m\u001b[1;33m,\u001b[0m\u001b[1;36m1\u001b[0m\u001b[1;33m]\u001b[0m\u001b[1;33m\u001b[0m\u001b[1;33m\u001b[0m\u001b[0m\n\u001b[0;32m      4\u001b[0m \u001b[1;33m\u001b[0m\u001b[0m\n\u001b[1;32m----> 5\u001b[1;33m \u001b[0mN\u001b[0m\u001b[1;33m,\u001b[0m\u001b[0mH\u001b[0m\u001b[1;33m,\u001b[0m\u001b[0mD\u001b[0m\u001b[1;33m=\u001b[0m \u001b[0mmap\u001b[0m\u001b[1;33m(\u001b[0m\u001b[0mint\u001b[0m\u001b[1;33m,\u001b[0m \u001b[0minput\u001b[0m\u001b[1;33m(\u001b[0m\u001b[1;33m)\u001b[0m\u001b[1;33m.\u001b[0m\u001b[0msplit\u001b[0m\u001b[1;33m(\u001b[0m\u001b[1;33m)\u001b[0m\u001b[1;33m)\u001b[0m\u001b[1;33m\u001b[0m\u001b[1;33m\u001b[0m\u001b[0m\n\u001b[0m\u001b[0;32m      6\u001b[0m \u001b[0mboard\u001b[0m \u001b[1;33m=\u001b[0m \u001b[1;33m[\u001b[0m\u001b[1;33m]\u001b[0m\u001b[1;33m\u001b[0m\u001b[1;33m\u001b[0m\u001b[0m\n\u001b[0;32m      7\u001b[0m \u001b[1;33m\u001b[0m\u001b[0m\n",
      "\u001b[1;31mValueError\u001b[0m: invalid literal for int() with base 10: 's'"
     ]
    }
   ],
   "source": [
    "from collections import deque\n",
    "dx = [-1,1,0,0]\n",
    "dy = [0,0,-1,1]\n",
    "\n",
    "N,H,D= map(int, input().split())\n",
    "board = []\n",
    "\n",
    "ssx=ssy=-1\n",
    "for x in range(N):\n",
    "    board.append(list(input().strip()))\n",
    "    if ssx==-1:\n",
    "        for y in range(N):\n",
    "            if board[x][y] == 'S':\n",
    "                ssx,ssy = x,y\n",
    "\n",
    "\n",
    "                \n",
    "def point_validator(x,y):\n",
    "    if x < 0 or y < 0 or x >= N or y >= N:\n",
    "        return False\n",
    "    return True\n",
    "\n",
    "def bfs(sx,sy):\n",
    "    \n",
    "    visited = [[0]*N for _ in range(N)]\n",
    "    q = deque([(sx,sy,H,0,0)])\n",
    "    \n",
    "    visited[sx][sy] = H\n",
    "    while q:\n",
    "        print(q)\n",
    "        x,y,h,d,cnt=q.popleft()\n",
    "        for i in range(4):\n",
    "            nx=x+dx[i]\n",
    "            ny=y+dy[i]\n",
    "            \n",
    "            if(point_validator(nx,ny)):\n",
    "                if(board[nx][ny]=='E'):\n",
    "                    print(cnt+1)\n",
    "                    return\n",
    "                nh=h\n",
    "                nd=d\n",
    "                if(board[nx][ny]=='U'):\n",
    "                    nd=D\n",
    "                if(nd==0):\n",
    "                    nh=nh-1\n",
    "                else:\n",
    "                    nd=nd-1\n",
    "                if(nh==0):\n",
    "                    continue\n",
    "                if(visited[nx][ny] < nh+nd):\n",
    "                    visited[nx][ny] = nh+nd\n",
    "                    q.appendleft((nx,ny,nh,nd,cnt+1))\n",
    "    print(-1)\n",
    "    \n",
    "bfs(ssx,ssy)\n",
    "                    "
   ]
  },
  {
   "cell_type": "code",
   "execution_count": null,
   "id": "519f84d0",
   "metadata": {},
   "outputs": [],
   "source": []
  },
  {
   "cell_type": "code",
   "execution_count": null,
   "id": "9b1f3c42",
   "metadata": {},
   "outputs": [],
   "source": []
  },
  {
   "cell_type": "code",
   "execution_count": null,
   "id": "50936671",
   "metadata": {},
   "outputs": [],
   "source": []
  },
  {
   "cell_type": "code",
   "execution_count": null,
   "id": "636f9581",
   "metadata": {},
   "outputs": [],
   "source": []
  },
  {
   "cell_type": "code",
   "execution_count": null,
   "id": "0cc7a388",
   "metadata": {},
   "outputs": [],
   "source": []
  },
  {
   "cell_type": "code",
   "execution_count": null,
   "id": "d2559e81",
   "metadata": {},
   "outputs": [],
   "source": []
  },
  {
   "cell_type": "code",
   "execution_count": null,
   "id": "b957ae1c",
   "metadata": {},
   "outputs": [],
   "source": []
  },
  {
   "cell_type": "code",
   "execution_count": null,
   "id": "ed80b40c",
   "metadata": {},
   "outputs": [],
   "source": []
  },
  {
   "cell_type": "code",
   "execution_count": null,
   "id": "7542b741",
   "metadata": {},
   "outputs": [],
   "source": []
  },
  {
   "cell_type": "code",
   "execution_count": 6,
   "id": "cf554e5e",
   "metadata": {},
   "outputs": [
    {
     "name": "stdout",
     "output_type": "stream",
     "text": [
      "4 3 3\n",
      "S..U\n",
      "....\n",
      "....\n",
      "...E\n",
      "deque([(0, 0, 3, 0, 0)])\n",
      "[[3, 0, 0, 0], [2, 0, 0, 0], [0, 0, 0, 0], [0, 0, 0, 0]]\n",
      "[[3, 2, 0, 0], [2, 0, 0, 0], [0, 0, 0, 0], [0, 0, 0, 0]]\n",
      "deque([(0, 1, 2, 0, 1), (1, 0, 2, 0, 1)])\n",
      "[[3, 2, 0, 0], [2, 1, 0, 0], [0, 0, 0, 0], [0, 0, 0, 0]]\n",
      "[[3, 2, 1, 0], [2, 1, 0, 0], [0, 0, 0, 0], [0, 0, 0, 0]]\n",
      "deque([(0, 2, 1, 0, 2), (1, 1, 1, 0, 2), (1, 0, 2, 0, 1)])\n",
      "[[3, 2, 1, 1], [2, 1, 0, 0], [0, 0, 0, 0], [0, 0, 0, 0]]\n",
      "deque([(0, 3, 1, 2, 3), (1, 1, 1, 0, 2), (1, 0, 2, 0, 1)])\n",
      "[[3, 2, 1, 1], [2, 1, 0, 1], [0, 0, 0, 0], [0, 0, 0, 0]]\n",
      "deque([(1, 3, 1, 1, 4), (1, 1, 1, 0, 2), (1, 0, 2, 0, 1)])\n",
      "[[3, 2, 1, 1], [2, 1, 0, 1], [0, 0, 0, 1], [0, 0, 0, 0]]\n",
      "[[3, 2, 1, 1], [2, 1, 1, 1], [0, 0, 0, 1], [0, 0, 0, 0]]\n",
      "deque([(1, 2, 1, 0, 5), (2, 3, 1, 0, 5), (1, 1, 1, 0, 2), (1, 0, 2, 0, 1)])\n",
      "deque([(2, 3, 1, 0, 5), (1, 1, 1, 0, 2), (1, 0, 2, 0, 1)])\n",
      "6\n"
     ]
    }
   ],
   "source": [
    "\n",
    "from collections import deque\n",
    "\n",
    "dx = [-1,1,0,0]\n",
    "dy = [0,0,-1,1]\n",
    "\n",
    "n,h,d = map(int, input().split())\n",
    "board = []\n",
    "\n",
    "sx=sy=-1\n",
    "for x in range(n):\n",
    "    board.append(list(input().strip()))\n",
    "    if sx==-1:\n",
    "        for y in range(n):\n",
    "            if board[x][y] == 'S':\n",
    "                sx,sy = x,y\n",
    "\n",
    "def solv():\n",
    "    visited = [[0]*n for _ in range(n)]\n",
    "    q = deque([(sx,sy,h,0,0)])\n",
    "    visited[sx][sy] = h\n",
    "\n",
    "    while q:\n",
    "        print(q)\n",
    "        x,y,now_h,now_d,cnt = q.popleft()\n",
    "\n",
    "        for dir in range(4):\n",
    "            nx = x + dx[dir]\n",
    "            ny = y + dy[dir]\n",
    "\n",
    "            if point_validator(nx,ny):\n",
    "                if board[nx][ny] == 'E':\n",
    "                    print(cnt+1)\n",
    "                    return\n",
    "                nxt_h = now_h\n",
    "                nxt_d = now_d\n",
    "\n",
    "                if board[nx][ny] == 'U':\n",
    "                    nxt_d = d\n",
    "\n",
    "                if nxt_d == 0:\n",
    "                    nxt_h -= 1\n",
    "                else:\n",
    "                    nxt_d -= 1\n",
    "\n",
    "                if nxt_h == 0:\n",
    "                    continue\n",
    "\n",
    "                if visited[nx][ny] < nxt_h:\n",
    "                    visited[nx][ny] = nxt_h\n",
    "                    q.appendleft((nx,ny,nxt_h,nxt_d,cnt+1))\n",
    "\n",
    "    print(-1)\n",
    "def point_validator(x,y):\n",
    "    if x < 0 or y < 0 or x >= n or y >= n:\n",
    "        return False\n",
    "    return True\n",
    "solv()"
   ]
  },
  {
   "cell_type": "code",
   "execution_count": null,
   "id": "880db648",
   "metadata": {},
   "outputs": [],
   "source": []
  },
  {
   "cell_type": "code",
   "execution_count": null,
   "id": "a9a242eb",
   "metadata": {},
   "outputs": [],
   "source": []
  },
  {
   "cell_type": "code",
   "execution_count": null,
   "id": "0190dbd9",
   "metadata": {},
   "outputs": [],
   "source": []
  },
  {
   "cell_type": "code",
   "execution_count": null,
   "id": "55a8271a",
   "metadata": {},
   "outputs": [],
   "source": []
  },
  {
   "cell_type": "code",
   "execution_count": null,
   "id": "77772f31",
   "metadata": {},
   "outputs": [],
   "source": []
  },
  {
   "cell_type": "code",
   "execution_count": null,
   "id": "fd52b68f",
   "metadata": {},
   "outputs": [],
   "source": []
  },
  {
   "cell_type": "code",
   "execution_count": null,
   "id": "a7c2a803",
   "metadata": {},
   "outputs": [],
   "source": []
  },
  {
   "cell_type": "code",
   "execution_count": null,
   "id": "bac56d05",
   "metadata": {},
   "outputs": [],
   "source": []
  },
  {
   "cell_type": "code",
   "execution_count": null,
   "id": "27e89323",
   "metadata": {},
   "outputs": [],
   "source": []
  },
  {
   "cell_type": "code",
   "execution_count": null,
   "id": "3d0e095f",
   "metadata": {},
   "outputs": [],
   "source": []
  },
  {
   "cell_type": "code",
   "execution_count": null,
   "id": "3a46cf5a",
   "metadata": {},
   "outputs": [],
   "source": []
  },
  {
   "cell_type": "code",
   "execution_count": null,
   "id": "f33aa10b",
   "metadata": {},
   "outputs": [],
   "source": []
  },
  {
   "cell_type": "code",
   "execution_count": null,
   "id": "83ed945d",
   "metadata": {},
   "outputs": [],
   "source": []
  },
  {
   "cell_type": "code",
   "execution_count": null,
   "id": "1c74d2c5",
   "metadata": {},
   "outputs": [],
   "source": []
  },
  {
   "cell_type": "code",
   "execution_count": null,
   "id": "381071e5",
   "metadata": {},
   "outputs": [],
   "source": []
  },
  {
   "cell_type": "code",
   "execution_count": null,
   "id": "f9a6df14",
   "metadata": {},
   "outputs": [],
   "source": []
  },
  {
   "cell_type": "code",
   "execution_count": null,
   "id": "38f65f7a",
   "metadata": {},
   "outputs": [],
   "source": []
  },
  {
   "cell_type": "code",
   "execution_count": null,
   "id": "45077eee",
   "metadata": {},
   "outputs": [],
   "source": []
  },
  {
   "cell_type": "code",
   "execution_count": null,
   "id": "52f743e4",
   "metadata": {},
   "outputs": [],
   "source": []
  },
  {
   "cell_type": "code",
   "execution_count": null,
   "id": "8da2c097",
   "metadata": {},
   "outputs": [],
   "source": []
  }
 ],
 "metadata": {
  "kernelspec": {
   "display_name": "Python 3",
   "language": "python",
   "name": "python3"
  },
  "language_info": {
   "codemirror_mode": {
    "name": "ipython",
    "version": 3
   },
   "file_extension": ".py",
   "mimetype": "text/x-python",
   "name": "python",
   "nbconvert_exporter": "python",
   "pygments_lexer": "ipython3",
   "version": "3.8.8"
  }
 },
 "nbformat": 4,
 "nbformat_minor": 5
}
