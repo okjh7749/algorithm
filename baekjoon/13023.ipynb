{
 "cells": [
  {
   "cell_type": "code",
   "execution_count": 2,
   "id": "1e986c60",
   "metadata": {},
   "outputs": [
    {
     "name": "stdout",
     "output_type": "stream",
     "text": [
      "5 4\n",
      "0 1\n",
      "1 2\n",
      "2 3\n",
      "3 4\n",
      "0\n"
     ]
    }
   ],
   "source": [
    "N, M = map(int,input().split())\n",
    "ans = False\n",
    "graph = [[] for _ in range(N)]\n",
    "visited=[False]*N\n",
    "\n",
    "for _ in range(M):\n",
    "    a,b = map(int,input().split())\n",
    "    graph[a].append(b)\n",
    "    graph[b].append(a)\n",
    "    \n",
    "\n",
    "def dfs(v,deep):\n",
    "    visited[v] = True\n",
    "    if deep == 4:\n",
    "        ans=True\n",
    "        return\n",
    "    for i in graph[v]:\n",
    "        if not visited[i]:\n",
    "            visited[i]=True\n",
    "            dfs(i,deep+1)\n",
    "            visited[i]=False\n",
    "                \n",
    "for i in range(N):\n",
    "    dfs(i, 0)\n",
    "    visited[i] = False\n",
    "    if ans:\n",
    "        break\n",
    "    \n",
    "print(1 if ans else 0)"
   ]
  },
  {
   "cell_type": "code",
   "execution_count": null,
   "id": "6eec9235",
   "metadata": {},
   "outputs": [],
   "source": []
  },
  {
   "cell_type": "code",
   "execution_count": null,
   "id": "101eca36",
   "metadata": {},
   "outputs": [],
   "source": []
  },
  {
   "cell_type": "code",
   "execution_count": null,
   "id": "9bec1a43",
   "metadata": {},
   "outputs": [],
   "source": []
  },
  {
   "cell_type": "code",
   "execution_count": null,
   "id": "7eecabe7",
   "metadata": {},
   "outputs": [],
   "source": []
  },
  {
   "cell_type": "code",
   "execution_count": null,
   "id": "1a27f33c",
   "metadata": {},
   "outputs": [],
   "source": []
  },
  {
   "cell_type": "code",
   "execution_count": null,
   "id": "58ef03f5",
   "metadata": {},
   "outputs": [],
   "source": []
  }
 ],
 "metadata": {
  "kernelspec": {
   "display_name": "Python 3",
   "language": "python",
   "name": "python3"
  },
  "language_info": {
   "codemirror_mode": {
    "name": "ipython",
    "version": 3
   },
   "file_extension": ".py",
   "mimetype": "text/x-python",
   "name": "python",
   "nbconvert_exporter": "python",
   "pygments_lexer": "ipython3",
   "version": "3.8.8"
  }
 },
 "nbformat": 4,
 "nbformat_minor": 5
}
