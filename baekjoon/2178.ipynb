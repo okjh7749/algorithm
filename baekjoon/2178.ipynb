{
 "cells": [
  {
   "cell_type": "code",
   "execution_count": 3,
   "id": "8f6bb9f4",
   "metadata": {},
   "outputs": [
    {
     "name": "stdout",
     "output_type": "stream",
     "text": [
      "4 6\n",
      "101111\n",
      "101010\n",
      "101011\n",
      "111011\n",
      "15\n"
     ]
    }
   ],
   "source": [
    "from collections import deque\n",
    "N, M = map(int, input().split())\n",
    "graph = [list(map(int, input())) for _ in range(N)]\n",
    "visited = [[0]*M for _ in range(N)]\n",
    "dx = [1, -1, 0, 0]\n",
    "dy = [0, 0, -1, 1]\n",
    "\n",
    "visited[0][0]=1\n",
    "\n",
    "def bfs():\n",
    "    q=deque()\n",
    "    q.append((0,0))\n",
    "    while q:\n",
    "        x,y=q.popleft()\n",
    "        if x == N-1 and y==M-1:\n",
    "            print(visited[x][y])\n",
    "            break\n",
    "            \n",
    "        for i in range(4):\n",
    "            nx=x+dx[i]\n",
    "            ny=y+dy[i]          \n",
    "            if nx>=0 and ny>= 0 and nx<N and ny<M :\n",
    "                if graph[nx][ny]== 1 and visited[nx][ny]==0:\n",
    "                    visited[nx][ny]=visited[x][y]+1\n",
    "                    q.append((nx,ny))\n",
    "                    \n",
    "    \n",
    "bfs()  "
   ]
  },
  {
   "cell_type": "code",
   "execution_count": null,
   "id": "c693d61e",
   "metadata": {},
   "outputs": [],
   "source": []
  },
  {
   "cell_type": "code",
   "execution_count": null,
   "id": "263e45bf",
   "metadata": {},
   "outputs": [],
   "source": []
  },
  {
   "cell_type": "code",
   "execution_count": null,
   "id": "e18ecebd",
   "metadata": {},
   "outputs": [],
   "source": []
  }
 ],
 "metadata": {
  "kernelspec": {
   "display_name": "Python 3",
   "language": "python",
   "name": "python3"
  },
  "language_info": {
   "codemirror_mode": {
    "name": "ipython",
    "version": 3
   },
   "file_extension": ".py",
   "mimetype": "text/x-python",
   "name": "python",
   "nbconvert_exporter": "python",
   "pygments_lexer": "ipython3",
   "version": "3.8.8"
  }
 },
 "nbformat": 4,
 "nbformat_minor": 5
}
