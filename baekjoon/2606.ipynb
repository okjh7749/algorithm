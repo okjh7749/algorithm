{
 "cells": [
  {
   "cell_type": "code",
   "execution_count": 7,
   "id": "36db96d9",
   "metadata": {},
   "outputs": [
    {
     "name": "stdout",
     "output_type": "stream",
     "text": [
      "7\n",
      "6\n",
      "1 2\n",
      "2 3\n",
      "1 5\n",
      "5 2\n",
      "5 6\n",
      "4 7\n",
      "4\n"
     ]
    }
   ],
   "source": [
    "\n",
    "# 노드의 개수와 간선(Union 연산)의 개수 입력 받기\n",
    "v=int(input())\n",
    "e=int(input())\n",
    "parent = [0] * (v + 1) # 부모 테이블 초기화하기\n",
    "cnt=0\n",
    "\n",
    "# 부모 테이블상에서, 부모를 자기 자신으로 초기화\n",
    "for i in range(1, v + 1):\n",
    "    parent[i] = i\n",
    "    \n",
    "def find(x):\n",
    "    if x==parent[x]:\n",
    "        return x\n",
    "    parent[x]=find(parent[x])\n",
    "    return parent[x]\n",
    "def union(a,b):\n",
    "    a = find(a)\n",
    "    b = find(b)\n",
    "    if a < b:\n",
    "        parent[b] = a\n",
    "    else:\n",
    "        parent[a] = b\n",
    "        \n",
    "# Union 연산을 각각 수행\n",
    "for i in range(e):\n",
    "    a, b = map(int, input().split())\n",
    "    union(a, b)\n",
    "    \n",
    "for i in range(2, v + 1):\n",
    "    if find(i)==find(1):\n",
    "        cnt+=1\n",
    "print(cnt)\n"
   ]
  },
  {
   "cell_type": "code",
   "execution_count": null,
   "id": "ccc7b32e",
   "metadata": {},
   "outputs": [],
   "source": []
  },
  {
   "cell_type": "code",
   "execution_count": null,
   "id": "29754bbd",
   "metadata": {},
   "outputs": [],
   "source": []
  },
  {
   "cell_type": "code",
   "execution_count": null,
   "id": "d289e60f",
   "metadata": {},
   "outputs": [],
   "source": []
  },
  {
   "cell_type": "code",
   "execution_count": null,
   "id": "fcd92884",
   "metadata": {},
   "outputs": [],
   "source": []
  },
  {
   "cell_type": "code",
   "execution_count": 3,
   "id": "14c7317a",
   "metadata": {},
   "outputs": [
    {
     "name": "stdout",
     "output_type": "stream",
     "text": [
      "5 4\n",
      "4 5\n",
      "3 4\n",
      "2 3\n",
      "1 2\n",
      "각 원소가 속한 집합: 1 1 1 1 1 \n",
      "부모 테이블: 1 1 2 3 4 "
     ]
    }
   ],
   "source": [
    "#유니온 파인드\n",
    "dic={}\n",
    "for i in range(int(input())):\n",
    "    dic[i+1] = set()\n",
    "for j in range(int(input())):\n",
    "    a, b = map(int,input().split())\n",
    "    dic[a].add(b)\n",
    "    dic[b].add(a)\n"
   ]
  },
  {
   "cell_type": "code",
   "execution_count": null,
   "id": "e52ed580",
   "metadata": {},
   "outputs": [],
   "source": []
  },
  {
   "cell_type": "code",
   "execution_count": null,
   "id": "3ee15acb",
   "metadata": {},
   "outputs": [],
   "source": []
  },
  {
   "cell_type": "code",
   "execution_count": null,
   "id": "58fe22c3",
   "metadata": {},
   "outputs": [],
   "source": []
  }
 ],
 "metadata": {
  "kernelspec": {
   "display_name": "Python 3",
   "language": "python",
   "name": "python3"
  },
  "language_info": {
   "codemirror_mode": {
    "name": "ipython",
    "version": 3
   },
   "file_extension": ".py",
   "mimetype": "text/x-python",
   "name": "python",
   "nbconvert_exporter": "python",
   "pygments_lexer": "ipython3",
   "version": "3.8.8"
  }
 },
 "nbformat": 4,
 "nbformat_minor": 5
}
