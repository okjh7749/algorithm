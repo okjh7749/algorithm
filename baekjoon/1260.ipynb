{
 "cells": [
  {
   "cell_type": "code",
   "execution_count": 13,
   "id": "6fac1cf8",
   "metadata": {},
   "outputs": [
    {
     "name": "stdout",
     "output_type": "stream",
     "text": [
      "5 5 3\n",
      "5 4\n",
      "[[], [], [], [], [4], [5]]\n",
      "5 2\n",
      "[[], [], [], [4], [5], [5, 2]]\n",
      "1 2\n",
      "[[], [1], [2], [4], [5], [5, 2]]\n",
      "3 4\n",
      "[[], [1], [2], [4, 4], [5, 2], [5, 3]]\n",
      "3 1\n",
      "[[], [1, 3], [2], [4, 4, 1], [5, 2], [5, 3]]\n",
      "3 4 5 2 1 \n",
      "3 4 1 5 2 "
     ]
    }
   ],
   "source": [
    "from collections import deque\n",
    "\n",
    "n, m, v = map(int, input().split())\n",
    "\n",
    "graph = [[] * (n + 1) for _ in range(n + 1)] \n",
    "visited = [False] * (n + 1)\n",
    "visited2 = [False] * (n + 1)\n",
    "\n",
    "for _ in range(m):\n",
    "    a, b = map(int, input().split())\n",
    "    graph[a].append(b)\n",
    "    graph[b].append(a)\n",
    "    graph.sort()\n",
    "    print(graph)\n",
    "    \n",
    "def dfs(v):\n",
    "    visited2[v] = True        \n",
    "    print(v, end = \" \")\n",
    "    for next_node in graph[v]:\n",
    "        if not visited2[next_node]:\n",
    "            visited2[next_node] = True\n",
    "            dfs(next_node)\n",
    "            \n",
    "def bfs(v):\n",
    "    q = deque()\n",
    "    q.append(v)       \n",
    "    visited[v] = True   \n",
    "    while q:\n",
    "        v = q.popleft()\n",
    "        print(v, end = \" \")\n",
    "        for next_node in graph[v]:\n",
    "            if not visited[next_node]:\n",
    "                q.append(next_node)\n",
    "                visited[next_node] = True\n",
    "                \n",
    "dfs(v)\n",
    "print()\n",
    "bfs(v)"
   ]
  },
  {
   "cell_type": "code",
   "execution_count": null,
   "id": "0e75583b",
   "metadata": {},
   "outputs": [],
   "source": []
  },
  {
   "cell_type": "code",
   "execution_count": 5,
   "id": "211c0f71",
   "metadata": {},
   "outputs": [
    {
     "name": "stdout",
     "output_type": "stream",
     "text": [
      "4 5 1\n",
      "1 2\n",
      "[[0, 0, 0, 0, 0], [0, 0, 1, 0, 0], [0, 1, 0, 0, 0], [0, 0, 0, 0, 0], [0, 0, 0, 0, 0]]\n",
      "1 3\n",
      "[[0, 0, 0, 0, 0], [0, 0, 1, 1, 0], [0, 1, 0, 0, 0], [0, 1, 0, 0, 0], [0, 0, 0, 0, 0]]\n",
      "1 4\n",
      "[[0, 0, 0, 0, 0], [0, 0, 1, 1, 1], [0, 1, 0, 0, 0], [0, 1, 0, 0, 0], [0, 1, 0, 0, 0]]\n",
      "2 4\n",
      "[[0, 0, 0, 0, 0], [0, 0, 1, 1, 1], [0, 1, 0, 0, 1], [0, 1, 0, 0, 0], [0, 1, 1, 0, 0]]\n",
      "3 4\n",
      "[[0, 0, 0, 0, 0], [0, 0, 1, 1, 1], [0, 1, 0, 0, 1], [0, 1, 0, 0, 1], [0, 1, 1, 1, 0]]\n",
      "1 2 4 3 \n",
      "1 2 3 4 "
     ]
    }
   ],
   "source": [
    "from collections import deque\n",
    "\n",
    "n, m, v = map(int, input().split())\n",
    "\n",
    "graph = [[0] * (n + 1) for _ in range(n + 1)] \n",
    "visited = [False] * (n + 1)\n",
    "visited2 = [False] * (n + 1)\n",
    "\n",
    "for _ in range(m):\n",
    "    a, b = map(int, input().split())\n",
    "    graph[a][b]=1\n",
    "    graph[b][a]=1\n",
    "    print(graph)\n",
    "    \n",
    "def dfs(v):\n",
    "    visited2[v] = True        \n",
    "    print(v, end = \" \")\n",
    "    for i in range(1, n + 1):\n",
    "        if visited2[i] == False and graph[v][i] == 1:\n",
    "            dfs(i)\n",
    "            \n",
    "def bfs(v):\n",
    "    q = deque()\n",
    "    q.append(v)       \n",
    "    visited[v] = True   \n",
    "    while q:\n",
    "        v = q.popleft()\n",
    "        print(v, end = \" \")\n",
    "        for i in range(1, n + 1):\n",
    "            if visited[i] == False and graph[v][i] == 1:\n",
    "                q.append(i)\n",
    "                visited[i] = True\n",
    "                \n",
    "dfs(v)\n",
    "print()\n",
    "bfs(v)"
   ]
  },
  {
   "cell_type": "code",
   "execution_count": null,
   "id": "0d3b4493",
   "metadata": {},
   "outputs": [],
   "source": []
  },
  {
   "cell_type": "code",
   "execution_count": null,
   "id": "5c5a64d3",
   "metadata": {},
   "outputs": [],
   "source": []
  }
 ],
 "metadata": {
  "kernelspec": {
   "display_name": "Python 3",
   "language": "python",
   "name": "python3"
  },
  "language_info": {
   "codemirror_mode": {
    "name": "ipython",
    "version": 3
   },
   "file_extension": ".py",
   "mimetype": "text/x-python",
   "name": "python",
   "nbconvert_exporter": "python",
   "pygments_lexer": "ipython3",
   "version": "3.8.8"
  }
 },
 "nbformat": 4,
 "nbformat_minor": 5
}
